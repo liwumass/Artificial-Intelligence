{
  "nbformat": 4,
  "nbformat_minor": 0,
  "metadata": {
    "colab": {
      "name": "1. Linear Regression_Gradient Descent Function.ipynb",
      "provenance": [],
      "mount_file_id": "1JiYzVx1TYEn5VZPNnO-iC4aJuCbFFSR4",
      "authorship_tag": "ABX9TyOegRzXZV221/Uj2WpRn4cT",
      "include_colab_link": true
    },
    "kernelspec": {
      "name": "python3",
      "display_name": "Python 3"
    }
  },
  "cells": [
    {
      "cell_type": "markdown",
      "metadata": {
        "id": "view-in-github",
        "colab_type": "text"
      },
      "source": [
        "<a href=\"https://colab.research.google.com/github/liwumass/Artificial-Intelligence/blob/master/1_Linear_Regression_Gradient_Descent_Function.ipynb\" target=\"_parent\"><img src=\"https://colab.research.google.com/assets/colab-badge.svg\" alt=\"Open In Colab\"/></a>"
      ]
    },
    {
      "cell_type": "code",
      "metadata": {
        "id": "YcZt0H0lZzvJ",
        "colab_type": "code",
        "colab": {}
      },
      "source": [
        "import matplotlib.pyplot as plt"
      ],
      "execution_count": 0,
      "outputs": []
    },
    {
      "cell_type": "code",
      "metadata": {
        "id": "T0ql4_UGaPh9",
        "colab_type": "code",
        "colab": {}
      },
      "source": [
        "lr = 1e-3\n",
        "x1 = 10\n",
        "x2 = -10"
      ],
      "execution_count": 0,
      "outputs": []
    },
    {
      "cell_type": "code",
      "metadata": {
        "id": "XNWRFRjCaV69",
        "colab_type": "code",
        "colab": {}
      },
      "source": [
        "def J(x1, x2):\n",
        "  return x1 ** 2 + x2 ** 4"
      ],
      "execution_count": 0,
      "outputs": []
    },
    {
      "cell_type": "code",
      "metadata": {
        "id": "_mzdXXThaiHx",
        "colab_type": "code",
        "colab": {}
      },
      "source": [
        "def g1(x1):\n",
        "  return 2 * x1"
      ],
      "execution_count": 0,
      "outputs": []
    },
    {
      "cell_type": "code",
      "metadata": {
        "id": "AnhWuvAAapG_",
        "colab_type": "code",
        "colab": {}
      },
      "source": [
        "def g2(x2):\n",
        "  return 5 * x2 ** 3"
      ],
      "execution_count": 0,
      "outputs": []
    },
    {
      "cell_type": "code",
      "metadata": {
        "id": "rjfRZYHuauvp",
        "colab_type": "code",
        "colab": {}
      },
      "source": [
        "values = []"
      ],
      "execution_count": 0,
      "outputs": []
    },
    {
      "cell_type": "code",
      "metadata": {
        "id": "6jQ6djdhaxXw",
        "colab_type": "code",
        "colab": {}
      },
      "source": [
        "for i in range(1000):\n",
        "  values.append(J(x1, x2))\n",
        "  x1 -= lr * g1(x1)\n",
        "  x2 -= lr * g2(x2)\n",
        "values.append(J(x1, x2))"
      ],
      "execution_count": 0,
      "outputs": []
    },
    {
      "cell_type": "code",
      "metadata": {
        "id": "qSnFjiXbbQHS",
        "colab_type": "code",
        "colab": {
          "base_uri": "https://localhost:8080/",
          "height": 282
        },
        "outputId": "0125e144-7bdc-4bc0-8d63-378bb44621ac"
      },
      "source": [
        "print(x1, x2)\n",
        "plt.plot(values)\n",
        "plt.show()"
      ],
      "execution_count": 8,
      "outputs": [
        {
          "output_type": "stream",
          "text": [
            "1.3506452244668374 -0.3150896086555735\n"
          ],
          "name": "stdout"
        },
        {
          "output_type": "display_data",
          "data": {
            "image/png": "[encoded data removed]",
            "text/plain": [
              "<Figure size 432x288 with 1 Axes>"
            ]
          },
          "metadata": {
            "tags": [],
            "needs_background": "light"
          }
        }
      ]
    }
  ]
}